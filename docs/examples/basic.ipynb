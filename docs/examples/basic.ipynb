{
 "cells": [
  {
   "attachments": {},
   "cell_type": "markdown",
   "metadata": {},
   "source": [
    "# Basic Usage"
   ]
  },
  {
   "attachments": {},
   "cell_type": "markdown",
   "metadata": {},
   "source": [
    "This notebook demonstrates the standalone usage of `gportal` package.\n",
    "\n",
    "Make sure to install `gportal` package:\n",
    "\n",
    "```console\n",
    "$ pip install gportal\n",
    "```\n",
    "\n",
    "Python 3.9 or higher is required."
   ]
  },
  {
   "cell_type": "code",
   "execution_count": 1,
   "metadata": {},
   "outputs": [],
   "source": [
    "import gportal"
   ]
  },
  {
   "attachments": {},
   "cell_type": "markdown",
   "metadata": {},
   "source": [
    "## Search products via Catalogue Service"
   ]
  },
  {
   "attachments": {},
   "cell_type": "markdown",
   "metadata": {},
   "source": [
    "G-Portal provides [OGC Catalogue Service](https://www.ogc.org/standard/cat/) API.\n",
    "\n",
    "For API details, see Appendix 7 of [G-Portal User's Manual](https://gportal.jaxa.jp/gpr/assets/mng_upload/COMMON/upload/GPortalUserManual_en.pdf)."
   ]
  },
  {
   "attachments": {},
   "cell_type": "markdown",
   "metadata": {},
   "source": [
    "### Get dataset IDs"
   ]
  },
  {
   "attachments": {},
   "cell_type": "markdown",
   "metadata": {},
   "source": [
    "Dataset IDs are required to search products.\n",
    "You can get them by `gportal.datasets()`."
   ]
  },
  {
   "cell_type": "code",
   "execution_count": 2,
   "metadata": {},
   "outputs": [],
   "source": [
    "datasets = gportal.datasets()"
   ]
  },
  {
   "attachments": {},
   "cell_type": "markdown",
   "metadata": {},
   "source": [
    "The return value is a tree-like dictionary, which structure corresponds to the \"spacecraft / sensor\" search tree of the G-Portal Web UI, and the leaves are dataset IDs."
   ]
  },
  {
   "cell_type": "code",
   "execution_count": 3,
   "metadata": {},
   "outputs": [
    {
     "data": {
      "text/plain": [
       "dict_keys(['GCOM-C/SGLI', 'GCOM-W/AMSR2', 'GPM', 'GPM Constellation satellites', 'GSMaP', 'TRMM_GPMFormat', 'ALOS', 'ALOS-2', 'CIRC', 'ADEOS', 'ADEOS-II', 'AQUA', 'TRMM', 'JERS-1', 'MOS-1', 'MOS-1b', 'NASA-CMR', 'SLATS'])"
      ]
     },
     "execution_count": 3,
     "metadata": {},
     "output_type": "execute_result"
    }
   ],
   "source": [
    "datasets.keys()"
   ]
  },
  {
   "cell_type": "code",
   "execution_count": 4,
   "metadata": {},
   "outputs": [
    {
     "data": {
      "text/plain": [
       "{'L1A-Visible & Near Infrared, VNR': ['10001000'],\n",
       " 'L1A-Visible & Near Infrared, POL': ['10001001'],\n",
       " 'L1A-SWI & TIR': ['10001002'],\n",
       " 'L1B-Visible & Near Infrared, VNR': ['10001003'],\n",
       " 'L1B-Visible & Near Infrared, POL': ['10001004'],\n",
       " 'L1B-SWI & TIR': ['10001005']}"
      ]
     },
     "execution_count": 4,
     "metadata": {},
     "output_type": "execute_result"
    }
   ],
   "source": [
    "datasets[\"GCOM-C/SGLI\"][\"LEVEL1\"]"
   ]
  },
  {
   "attachments": {},
   "cell_type": "markdown",
   "metadata": {},
   "source": [
    "### Build a search query"
   ]
  },
  {
   "attachments": {},
   "cell_type": "markdown",
   "metadata": {},
   "source": [
    "Let's search GCOM-C L2 SST products near Japan on 2023-03-28."
   ]
  },
  {
   "cell_type": "code",
   "execution_count": 5,
   "metadata": {},
   "outputs": [
    {
     "data": {
      "text/plain": [
       "['10002002']"
      ]
     },
     "execution_count": 5,
     "metadata": {},
     "output_type": "execute_result"
    }
   ],
   "source": [
    "datasets[\"GCOM-C/SGLI\"][\"LEVEL2\"][\"Oceanic sphere\"][\"L2-SST\"]"
   ]
  },
  {
   "cell_type": "code",
   "execution_count": 6,
   "metadata": {},
   "outputs": [],
   "source": [
    "res = gportal.search(\n",
    "    dataset_ids=datasets[\"GCOM-C/SGLI\"][\"LEVEL2\"][\"Oceanic sphere\"][\"L2-SST\"],\n",
    "    start_time=\"2023-03-28T00:00:00\",\n",
    "    end_time=\"2023-03-28T23:59:59\",\n",
    "    bbox=[130, 30, 140, 40],\n",
    "    params={\n",
    "        # You can add more parameters.\n",
    "        # See Appendix 7 of G-Portal User's Manual for details:\n",
    "        # https://gportal.jaxa.jp/gpr/assets/mng_upload/COMMON/upload/GPortalUserManual_en.pdf\n",
    "    },\n",
    ")"
   ]
  },
  {
   "attachments": {},
   "cell_type": "markdown",
   "metadata": {},
   "source": [
    "`gportal.search` returns `Search` object."
   ]
  },
  {
   "cell_type": "code",
   "execution_count": 7,
   "metadata": {},
   "outputs": [
    {
     "data": {
      "text/plain": [
       "<gportal.Search params={'datasetId': '10002002', 'bbox': '130,30,140,40', 'startTime': '2023-03-28T00:00:00', 'endTime': '2023-03-28T23:59:59', 'count': 100}>"
      ]
     },
     "execution_count": 7,
     "metadata": {},
     "output_type": "execute_result"
    }
   ],
   "source": [
    "res"
   ]
  },
  {
   "attachments": {},
   "cell_type": "markdown",
   "metadata": {},
   "source": [
    "`Search.matched` returns the number of matched products."
   ]
  },
  {
   "cell_type": "code",
   "execution_count": 8,
   "metadata": {},
   "outputs": [
    {
     "data": {
      "text/plain": [
       "8"
      ]
     },
     "execution_count": 8,
     "metadata": {},
     "output_type": "execute_result"
    }
   ],
   "source": [
    "res.matched()"
   ]
  },
  {
   "attachments": {},
   "cell_type": "markdown",
   "metadata": {},
   "source": [
    "Note that any requests are not invoked with `gportal.search` but only invoked with `Search.matched`.\n",
    "\n",
    "`Search` class also provides a method to iterate through the resulting products with automatic pagination."
   ]
  },
  {
   "cell_type": "code",
   "execution_count": 9,
   "metadata": {},
   "outputs": [
    {
     "data": {
      "text/plain": [
       "[<gportal.Product id=GC1SG1_202303280150A05511_L2SG_SSTDK_3001>,\n",
       " <gportal.Product id=GC1SG1_202303280145S05510_L2SG_SSTDK_3001>,\n",
       " <gportal.Product id=GC1SG1_202303280145S05510_L2SG_SSTDQ_3001>,\n",
       " <gportal.Product id=GC1SG1_202303280150A05511_L2SG_SSTDQ_3001>,\n",
       " <gportal.Product id=GC1SG1_202303281303A29303_L2SG_SSTNK_3001>,\n",
       " <gportal.Product id=GC1SG1_202303281258S29302_L2SG_SSTNK_3001>,\n",
       " <gportal.Product id=GC1SG1_202303281303A29303_L2SG_SSTNQ_3001>,\n",
       " <gportal.Product id=GC1SG1_202303281258S29302_L2SG_SSTNQ_3001>]"
      ]
     },
     "execution_count": 9,
     "metadata": {},
     "output_type": "execute_result"
    }
   ],
   "source": [
    "products = list(res.products())\n",
    "products"
   ]
  },
  {
   "attachments": {},
   "cell_type": "markdown",
   "metadata": {},
   "source": [
    "### Examine metadata of resulting products"
   ]
  },
  {
   "attachments": {},
   "cell_type": "markdown",
   "metadata": {},
   "source": [
    "`Product` object wraps a GeoJSON in search responses."
   ]
  },
  {
   "cell_type": "code",
   "execution_count": 10,
   "metadata": {},
   "outputs": [
    {
     "data": {
      "text/plain": [
       "{'type': 'Feature',\n",
       " 'geometry': {'type': 'Polygon',\n",
       "  'coordinates': [[[125.85595703125, 31.57961463928223],\n",
       "    [130.72679138183594, 31.06794357299805],\n",
       "    [133.94281005859375, 30.62568855285645],\n",
       "    [137.04075622558594, 30.12026596069336],\n",
       "    [141.29827880859375, 29.29706573486328],\n",
       "    [142.3202362060547, 29.07710838317871],\n",
       "    [141.4342498779297, 26.53586006164551],\n",
       "    [140.59503173828125, 23.98672103881836],\n",
       "    [139.7974090576172, 21.43053817749023],\n",
       "    [139.03689575195312, 18.86806488037109],\n",
       "    [138.3096160888672, 16.29997062683105],\n",
       "    [137.61216735839844, 13.7268762588501],\n",
       "    [137.2498321533203, 12.35300827026367],\n",
       "    [133.02064514160156, 13.08668041229248],\n",
       "    [130.18714904785156, 13.53771877288818],\n",
       "    [127.4225082397461, 13.94553470611572],\n",
       "    [123.5600357055664, 14.46070861816406],\n",
       "    [122.62117004394531, 14.57615947723389],\n",
       "    [123.1322250366211, 17.17774772644043],\n",
       "    [123.635986328125, 19.78003120422363],\n",
       "    [124.13346099853516, 22.38276863098145],\n",
       "    [124.62567138671875, 24.9857349395752],\n",
       "    [125.1136245727539, 27.58873176574707],\n",
       "    [125.59837341308594, 30.19156265258789],\n",
       "    [125.85595703125, 31.57961463928223]]]},\n",
       " 'properties': {'identifier': 'GC1SG1_202303280150A05511_L2SG_SSTDK_3001',\n",
       "  'acquisitionType': 'NOMINAL',\n",
       "  'imageQualityDegradation': '',\n",
       "  'imageQualityDegradationQuotationMode': '',\n",
       "  'processingDate': '2023-03-28T15:19:21.00Z',\n",
       "  'processingLevel': 'L2',\n",
       "  'ProductType': 'S',\n",
       "  'status': 'ARCHIVED',\n",
       "  'beginPosition': '2023-03-28T01:49:44.91Z',\n",
       "  'endPosition': '2023-03-28T01:54:32.48Z',\n",
       "  'platformShortName': 'GCOM-C',\n",
       "  'instrumentShortName': 'SGLI',\n",
       "  'sensorType': 'OPTICAL',\n",
       "  'operationalMode': 'NOMINAL',\n",
       "  'resolution': '',\n",
       "  'orbitNumber': '055',\n",
       "  'lastOrbitNumber': '',\n",
       "  'DayNight': '',\n",
       "  'illuminationAzimuthAngle': '',\n",
       "  'illuminationElevationAngle': '',\n",
       "  'multiExtentOf': '125.85595703125000 31.57961463928223 130.72679138183594 31.06794357299805 133.94281005859375 30.62568855285645 137.04075622558594 30.12026596069336 141.29827880859375 29.29706573486328 142.32023620605469 29.07710838317871 141.43424987792969 26.53586006164551 140.59503173828125 23.98672103881836 139.79740905761719 21.43053817749023 139.03689575195313 18.86806488037109 138.30961608886719 16.29997062683105 137.61216735839844 13.72687625885010 137.24983215332031 12.35300827026367 133.02064514160156 13.08668041229248 130.18714904785156 13.53771877288818 127.42250823974609 13.94553470611572 123.56003570556641 14.46070861816406 122.62117004394531 14.57615947723389 123.13222503662109 17.17774772644043 123.63598632812500 19.78003120422363 124.13346099853516 22.38276863098145 124.62567138671875 24.98573493957520 125.11362457275391 27.58873176574707 125.59837341308594 30.19156265258789 125.85595703125000 31.57961463928223',\n",
       "  'centerOf': '131.94178771972656 22.09838485717773',\n",
       "  'product': {'fileName': 'https://gportal.jaxa.jp/download/standard/GCOM-C/GCOM-C.SGLI/L2.OCEAN.SST_/3/2023/03/28/GC1SG1_202303280150A05511_L2SG_SSTDK_3001.h5',\n",
       "   'size': '4194304',\n",
       "   'DataFormatType': 'HDF5',\n",
       "   'version': '3'},\n",
       "  'browse': [{'type': 'QUICKLOOK',\n",
       "    'fileName': 'https://gportal.jaxa.jp/gpr/img/br/GC1SG1_202303280150A05511_L2SG_SSTDK_3001/GC1SG1_202303280150A05511_L2SG_SSTDK_3001.jpg'},\n",
       "   {'type': 'QUICKLOOK',\n",
       "    'fileName': 'https://gportal.jaxa.jp/gpr/img/sb/GC1SG1_202303280150A05511_L2SG_SSTDK_3001/GC1SG1_202303280150A05511_L2SG_SSTDK_3001-000.jpg'},\n",
       "   {'type': 'THUMBNAIL',\n",
       "    'fileName': 'https://gportal.jaxa.jp/gpr/img/thm/GC1SG1_202303280150A05511_L2SG_SSTDK_3001/GC1SG1_202303280150A05511_L2SG_SSTDK_3001_thm.jpg'}],\n",
       "  'gpp': {'datasetId': '10002002',\n",
       "   'totalQualityCode': 'Good',\n",
       "   'cloudCoverPercentage': '',\n",
       "   'operatorComment': '',\n",
       "   'compressFlag': '1',\n",
       "   'physicalQuantity': 'SGLI SST',\n",
       "   'Resolution': '1km',\n",
       "   'browseImageSize': '414',\n",
       "   'parameterVersion': '001',\n",
       "   'algorithmVersion': '3',\n",
       "   'numberPixels': '',\n",
       "   'numberLines': '',\n",
       "   'numberBands': '',\n",
       "   'numberMissingData': '',\n",
       "   'sceneNumber': '11',\n",
       "   'startPathNumber': '055',\n",
       "   'endPathNumber': '055',\n",
       "   'startArgumentLat': '',\n",
       "   'endArgumentLat': '',\n",
       "   'mapProjection': '',\n",
       "   'mapDirection': '',\n",
       "   'orbitDirection': 'Descending',\n",
       "   'tileNo': '',\n",
       "   'channels': '',\n",
       "   'bandWidth': '',\n",
       "   'downlinkSegmentNumber': '',\n",
       "   'sensorOffPeriod': '',\n",
       "   'sceneCenterTime': '2023-03-28T01:52:08.70Z',\n",
       "   'startSubsatellitePosition': '',\n",
       "   'endSubsatellitePosition': '',\n",
       "   'ProcessTimeUnit': '',\n",
       "   'tileHNo': '',\n",
       "   'tileVNo': '',\n",
       "   'topicCategory': '-',\n",
       "   'organizationName': 'JAXA',\n",
       "   'pseq': 'EQ',\n",
       "   'hasProduct': 'true'}}}"
      ]
     },
     "execution_count": 10,
     "metadata": {},
     "output_type": "execute_result"
    }
   ],
   "source": [
    "product = products[0]\n",
    "product.geojson"
   ]
  },
  {
   "attachments": {},
   "cell_type": "markdown",
   "metadata": {},
   "source": [
    "`Product` has shorthand properties to access `properties` dictionary."
   ]
  },
  {
   "cell_type": "code",
   "execution_count": 11,
   "metadata": {},
   "outputs": [
    {
     "name": "stdout",
     "output_type": "stream",
     "text": [
      "Granule ID: GC1SG1_202303280150A05511_L2SG_SSTDK_3001\n",
      "Dataset ID: 10002002\n",
      "Observation start: 2023-03-28 01:49:44.910000+00:00\n",
      "Observation end 2023-03-28 01:54:32.480000+00:00\n",
      "Product URL: https://gportal.jaxa.jp/download/standard/GCOM-C/GCOM-C.SGLI/L2.OCEAN.SST_/3/2023/03/28/GC1SG1_202303280150A05511_L2SG_SSTDK_3001.h5\n"
     ]
    }
   ],
   "source": [
    "print(\"Granule ID:\", product.id)\n",
    "print(\"Dataset ID:\", product.dataset_id)\n",
    "print(\"Observation start:\", product.start_time)\n",
    "print(\"Observation end\", product.end_time)\n",
    "print(\"Product URL:\", product.data_url)"
   ]
  },
  {
   "attachments": {},
   "cell_type": "markdown",
   "metadata": {},
   "source": [
    "Let's see the browse image."
   ]
  },
  {
   "cell_type": "code",
   "execution_count": 12,
   "metadata": {},
   "outputs": [
    {
     "data": {
      "text/html": [
       "<img src=\"https://gportal.jaxa.jp/gpr/img/br/GC1SG1_202303280150A05511_L2SG_SSTDK_3001/GC1SG1_202303280150A05511_L2SG_SSTDK_3001.jpg\"/>"
      ],
      "text/plain": [
       "<IPython.core.display.Image object>"
      ]
     },
     "execution_count": 12,
     "metadata": {},
     "output_type": "execute_result"
    }
   ],
   "source": [
    "from IPython.display import Image\n",
    "\n",
    "Image(url=product.get_browse_url())"
   ]
  },
  {
   "attachments": {},
   "cell_type": "markdown",
   "metadata": {},
   "source": [
    "## Download products via SFTP"
   ]
  },
  {
   "attachments": {},
   "cell_type": "markdown",
   "metadata": {},
   "source": [
    "TODO"
   ]
  }
 ],
 "metadata": {
  "kernelspec": {
   "display_name": "gportal-VRisJ_BE-py3.11",
   "language": "python",
   "name": "python3"
  },
  "language_info": {
   "codemirror_mode": {
    "name": "ipython",
    "version": 3
   },
   "file_extension": ".py",
   "mimetype": "text/x-python",
   "name": "python",
   "nbconvert_exporter": "python",
   "pygments_lexer": "ipython3",
   "version": "3.11.2"
  },
  "orig_nbformat": 4
 },
 "nbformat": 4,
 "nbformat_minor": 2
}
