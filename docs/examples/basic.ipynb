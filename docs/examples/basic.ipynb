{
 "cells": [
  {
   "attachments": {},
   "cell_type": "markdown",
   "metadata": {},
   "source": [
    "# Basic Usage"
   ]
  },
  {
   "attachments": {},
   "cell_type": "markdown",
   "metadata": {},
   "source": [
    "This example demonstrates the standalone usage of `gportal` package.\n",
    "\n",
    "Make sure to install `gportal` package, and import it.\n",
    "\n",
    "```console\n",
    "$ pip install gportal\n",
    "```"
   ]
  },
  {
   "cell_type": "code",
   "execution_count": 1,
   "metadata": {},
   "outputs": [],
   "source": [
    "import gportal"
   ]
  },
  {
   "attachments": {},
   "cell_type": "markdown",
   "metadata": {},
   "source": [
    "## Search products via Catalogue Service"
   ]
  },
  {
   "attachments": {},
   "cell_type": "markdown",
   "metadata": {},
   "source": [
    "G-Portal provides [OGC Catalogue Service](https://www.ogc.org/standard/cat/) API.\n",
    "\n",
    "For API details, see Appendix 7 of [G-Portal User's Manual](https://gportal.jaxa.jp/gpr/assets/mng_upload/COMMON/upload/GPortalUserManual_en.pdf)."
   ]
  },
  {
   "attachments": {},
   "cell_type": "markdown",
   "metadata": {},
   "source": [
    "### Get dataset IDs"
   ]
  },
  {
   "attachments": {},
   "cell_type": "markdown",
   "metadata": {},
   "source": [
    "Dataset IDs are required to search products.\n",
    "You can get them by `gportal.datasets`."
   ]
  },
  {
   "cell_type": "code",
   "execution_count": 2,
   "metadata": {},
   "outputs": [],
   "source": [
    "datasets = gportal.datasets()"
   ]
  },
  {
   "attachments": {},
   "cell_type": "markdown",
   "metadata": {},
   "source": [
    "The return value is a tree-like dictionary, which structure corresponds to the \"spacecraft / sensor\" search tree of the G-Portal Web UI, and the leaves are dataset IDs."
   ]
  },
  {
   "cell_type": "code",
   "execution_count": 3,
   "metadata": {},
   "outputs": [
    {
     "data": {
      "text/plain": [
       "dict_keys(['GCOM-C/SGLI', 'GCOM-W/AMSR2', 'GPM', 'GPM Constellation satellites', 'GSMaP', 'TRMM_GPMFormat', 'ALOS', 'ALOS-2', 'CIRC', 'ADEOS', 'ADEOS-II', 'AQUA', 'TRMM', 'JERS-1', 'MOS-1', 'MOS-1b', 'NASA-CMR', 'SLATS'])"
      ]
     },
     "execution_count": 3,
     "metadata": {},
     "output_type": "execute_result"
    }
   ],
   "source": [
    "datasets.keys()"
   ]
  },
  {
   "cell_type": "code",
   "execution_count": 4,
   "metadata": {},
   "outputs": [
    {
     "data": {
      "text/plain": [
       "{'L1A-Visible & Near Infrared, VNR': ['10001000'],\n",
       " 'L1A-Visible & Near Infrared, POL': ['10001001'],\n",
       " 'L1A-SWI & TIR': ['10001002'],\n",
       " 'L1B-Visible & Near Infrared, VNR': ['10001003'],\n",
       " 'L1B-Visible & Near Infrared, POL': ['10001004'],\n",
       " 'L1B-SWI & TIR': ['10001005']}"
      ]
     },
     "execution_count": 4,
     "metadata": {},
     "output_type": "execute_result"
    }
   ],
   "source": [
    "datasets[\"GCOM-C/SGLI\"][\"LEVEL1\"]"
   ]
  },
  {
   "attachments": {},
   "cell_type": "markdown",
   "metadata": {},
   "source": [
    "### Build a search query"
   ]
  },
  {
   "attachments": {},
   "cell_type": "markdown",
   "metadata": {},
   "source": [
    "Let's search GCOM-C Level 2 SST (Sea Surface Temperature) products near Japan on 2023-01-01."
   ]
  },
  {
   "cell_type": "code",
   "execution_count": 5,
   "metadata": {},
   "outputs": [
    {
     "data": {
      "text/plain": [
       "['10002002']"
      ]
     },
     "execution_count": 5,
     "metadata": {},
     "output_type": "execute_result"
    }
   ],
   "source": [
    "datasets[\"GCOM-C/SGLI\"][\"LEVEL2\"][\"Oceanic sphere\"][\"L2-SST\"]"
   ]
  },
  {
   "cell_type": "code",
   "execution_count": 6,
   "metadata": {},
   "outputs": [],
   "source": [
    "res = gportal.search(\n",
    "    dataset_ids=datasets[\"GCOM-C/SGLI\"][\"LEVEL2\"][\"Oceanic sphere\"][\"L2-SST\"],\n",
    "    start_time=\"2023-01-01T00:00:00\",\n",
    "    end_time=\"2023-01-01T23:59:59\",\n",
    "    bbox=[140, 30, 145, 35],\n",
    "    params={\n",
    "        # You can add more parameters.\n",
    "        # See Appendix 7 of G-Portal User's Manual for details:\n",
    "        # https://gportal.jaxa.jp/gpr/assets/mng_upload/COMMON/upload/GPortalUserManual_en.pdf\n",
    "    },\n",
    ")"
   ]
  },
  {
   "attachments": {},
   "cell_type": "markdown",
   "metadata": {},
   "source": [
    "`gportal.search` returns a `Search` object."
   ]
  },
  {
   "cell_type": "code",
   "execution_count": 7,
   "metadata": {},
   "outputs": [
    {
     "data": {
      "text/plain": [
       "<gportal.Search params={'datasetId': '10002002', 'bbox': '140,30,145,35', 'startTime': '2023-01-01T00:00:00', 'endTime': '2023-01-01T23:59:59', 'count': 100}>"
      ]
     },
     "execution_count": 7,
     "metadata": {},
     "output_type": "execute_result"
    }
   ],
   "source": [
    "res"
   ]
  },
  {
   "attachments": {},
   "cell_type": "markdown",
   "metadata": {},
   "source": [
    "`Search.matched` returns the number of matched products."
   ]
  },
  {
   "cell_type": "code",
   "execution_count": 8,
   "metadata": {},
   "outputs": [
    {
     "data": {
      "text/plain": [
       "8"
      ]
     },
     "execution_count": 8,
     "metadata": {},
     "output_type": "execute_result"
    }
   ],
   "source": [
    "res.matched()"
   ]
  },
  {
   "attachments": {},
   "cell_type": "markdown",
   "metadata": {},
   "source": [
    "Note that any requests are not invoked with `gportal.search` but only invoked with `Search.matched`.\n",
    "\n",
    "`Search` class also provides a method to iterate through the resulting products with automatic pagination."
   ]
  },
  {
   "cell_type": "code",
   "execution_count": 9,
   "metadata": {},
   "outputs": [
    {
     "data": {
      "text/plain": [
       "[<gportal.Product id=GC1SG1_202301010122E04710_L2SG_SSTDK_3001>,\n",
       " <gportal.Product id=GC1SG1_202301010126J04711_L2SG_SSTDK_3001>,\n",
       " <gportal.Product id=GC1SG1_202301010122E04710_L2SG_SSTDQ_3001>,\n",
       " <gportal.Product id=GC1SG1_202301010126J04711_L2SG_SSTDQ_3001>,\n",
       " <gportal.Product id=GC1SG1_202301011239J28503_L2SG_SSTNK_3001>,\n",
       " <gportal.Product id=GC1SG1_202301011235E28502_L2SG_SSTNK_3001>,\n",
       " <gportal.Product id=GC1SG1_202301011239J28503_L2SG_SSTNQ_3001>,\n",
       " <gportal.Product id=GC1SG1_202301011235E28502_L2SG_SSTNQ_3001>]"
      ]
     },
     "execution_count": 9,
     "metadata": {},
     "output_type": "execute_result"
    }
   ],
   "source": [
    "products = list(res.products())\n",
    "products"
   ]
  },
  {
   "attachments": {},
   "cell_type": "markdown",
   "metadata": {},
   "source": [
    "### Examine metadata of resulting products"
   ]
  },
  {
   "attachments": {},
   "cell_type": "markdown",
   "metadata": {},
   "source": [
    "`Product` wraps a GeoJSON in search responses."
   ]
  },
  {
   "cell_type": "code",
   "execution_count": 10,
   "metadata": {},
   "outputs": [
    {
     "data": {
      "text/plain": [
       "{'type': 'Feature',\n",
       " 'geometry': {'type': 'Polygon',\n",
       "  'coordinates': [[[134.51026916503906, 46.44524002075195],\n",
       "    [140.54034423828125, 45.92348480224609],\n",
       "    [144.48358154296875, 45.40235137939453],\n",
       "    [148.24114990234375, 44.76785278320313],\n",
       "    [153.3236541748047, 43.68489837646484],\n",
       "    [154.52767944335938, 43.38881301879883],\n",
       "    [153.22018432617188, 40.91696929931641],\n",
       "    [152.01185607910156, 38.42909622192383],\n",
       "    [150.8895721435547, 35.92721176147461],\n",
       "    [149.84219360351562, 33.41301345825195],\n",
       "    [148.86044311523438, 30.8879337310791],\n",
       "    [147.93641662597656, 28.35320091247559],\n",
       "    [147.46324157714844, 26.99820137023926],\n",
       "    [142.8500518798828, 27.90709114074707],\n",
       "    [139.73326110839844, 28.42703247070313],\n",
       "    [136.67523193359375, 28.86391067504883],\n",
       "    [132.38002014160156, 29.35588836669922],\n",
       "    [131.33270263671875, 29.45441246032715],\n",
       "    [131.81683349609375, 32.05686187744141],\n",
       "    [132.29971313476562, 34.65885543823242],\n",
       "    [132.7825469970703, 37.2602424621582],\n",
       "    [133.26670837402344, 39.86090850830078],\n",
       "    [133.75375366210938, 42.46072006225586],\n",
       "    [134.24545288085938, 45.05959320068359],\n",
       "    [134.51026916503906, 46.44524002075195]]]},\n",
       " 'properties': {'identifier': 'GC1SG1_202301010122E04710_L2SG_SSTDK_3001',\n",
       "  'acquisitionType': 'NOMINAL',\n",
       "  'imageQualityDegradation': None,\n",
       "  'imageQualityDegradationQuotationMode': None,\n",
       "  'processingDate': '2023-01-01T15:20:47.00Z',\n",
       "  'processingLevel': 'L2',\n",
       "  'ProductType': 'S',\n",
       "  'status': 'ARCHIVED',\n",
       "  'beginPosition': '2023-01-01T01:21:56.94Z',\n",
       "  'endPosition': '2023-01-01T01:26:44.51Z',\n",
       "  'platformShortName': 'GCOM-C',\n",
       "  'instrumentShortName': 'SGLI',\n",
       "  'sensorType': 'OPTICAL',\n",
       "  'operationalMode': 'NOMINAL',\n",
       "  'resolution': None,\n",
       "  'orbitNumber': 47,\n",
       "  'lastOrbitNumber': None,\n",
       "  'DayNight': None,\n",
       "  'illuminationAzimuthAngle': None,\n",
       "  'illuminationElevationAngle': None,\n",
       "  'multiExtentOf': '134.51026916503906 46.44524002075195 140.54034423828125 45.92348480224609 144.48358154296875 45.40235137939453 148.24114990234375 44.76785278320313 153.32365417480469 43.68489837646484 154.52767944335938 43.38881301879883 153.22018432617188 40.91696929931641 152.01185607910156 38.42909622192383 150.88957214355469 35.92721176147461 149.84219360351563 33.41301345825195 148.86044311523438 30.88793373107910 147.93641662597656 28.35320091247559 147.46324157714844 26.99820137023926 142.85005187988281 27.90709114074707 139.73326110839844 28.42703247070313 136.67523193359375 28.86391067504883 132.38002014160156 29.35588836669922 131.33270263671875 29.45441246032715 131.81683349609375 32.05686187744141 132.29971313476563 34.65885543823242 132.78254699707031 37.26024246215820 133.26670837402344 39.86090850830078 133.75375366210938 42.46072006225586 134.24545288085938 45.05959320068359 134.51026916503906 46.44524002075195',\n",
       "  'centerOf': '141.85800170898438 36.94295883178711',\n",
       "  'product': {'fileName': 'https://gportal.jaxa.jp/download/standard/GCOM-C/GCOM-C.SGLI/L2.OCEAN.SST_/3/2023/01/01/GC1SG1_202301010122E04710_L2SG_SSTDK_3001.h5',\n",
       "   'size': 4194304,\n",
       "   'DataFormatType': 'HDF5',\n",
       "   'version': 3},\n",
       "  'browse': [{'type': 'QUICKLOOK',\n",
       "    'fileName': 'https://gportal.jaxa.jp/gpr/img/br/GC1SG1_202301010122E04710_L2SG_SSTDK_3001/GC1SG1_202301010122E04710_L2SG_SSTDK_3001.jpg'},\n",
       "   {'type': 'QUICKLOOK',\n",
       "    'fileName': 'https://gportal.jaxa.jp/gpr/img/sb/GC1SG1_202301010122E04710_L2SG_SSTDK_3001/GC1SG1_202301010122E04710_L2SG_SSTDK_3001-000.jpg'},\n",
       "   {'type': 'THUMBNAIL',\n",
       "    'fileName': 'https://gportal.jaxa.jp/gpr/img/thm/GC1SG1_202301010122E04710_L2SG_SSTDK_3001/GC1SG1_202301010122E04710_L2SG_SSTDK_3001_thm.jpg'}],\n",
       "  'gpp': {'datasetId': 10002002,\n",
       "   'totalQualityCode': 'Good',\n",
       "   'cloudCoverPercentage': 68,\n",
       "   'operatorComment': None,\n",
       "   'compressFlag': 1,\n",
       "   'physicalQuantity': 'SGLI SST',\n",
       "   'Resolution': '1km',\n",
       "   'browseImageSize': 813,\n",
       "   'parameterVersion': 1,\n",
       "   'algorithmVersion': 3,\n",
       "   'numberPixels': None,\n",
       "   'numberLines': None,\n",
       "   'numberBands': None,\n",
       "   'numberMissingData': None,\n",
       "   'sceneNumber': 10,\n",
       "   'startPathNumber': 47,\n",
       "   'endPathNumber': 47,\n",
       "   'startArgumentLat': None,\n",
       "   'endArgumentLat': None,\n",
       "   'mapProjection': None,\n",
       "   'mapDirection': None,\n",
       "   'orbitDirection': 'Descending',\n",
       "   'tileNo': None,\n",
       "   'channels': None,\n",
       "   'bandWidth': None,\n",
       "   'downlinkSegmentNumber': None,\n",
       "   'sensorOffPeriod': None,\n",
       "   'sceneCenterTime': '2023-01-01T01:24:20.73Z',\n",
       "   'startSubsatellitePosition': None,\n",
       "   'endSubsatellitePosition': None,\n",
       "   'ProcessTimeUnit': None,\n",
       "   'tileHNo': None,\n",
       "   'tileVNo': None,\n",
       "   'topicCategory': '-',\n",
       "   'organizationName': 'JAXA',\n",
       "   'pseq': 'EQ',\n",
       "   'hasProduct': True}}}"
      ]
     },
     "execution_count": 10,
     "metadata": {},
     "output_type": "execute_result"
    }
   ],
   "source": [
    "product = products[0]\n",
    "product.to_dict()"
   ]
  },
  {
   "attachments": {},
   "cell_type": "markdown",
   "metadata": {},
   "source": [
    "`Product` has shorthand accessors for GeoJSON properties."
   ]
  },
  {
   "cell_type": "code",
   "execution_count": 11,
   "metadata": {},
   "outputs": [
    {
     "name": "stdout",
     "output_type": "stream",
     "text": [
      "Granule ID: GC1SG1_202301010122E04710_L2SG_SSTDK_3001\n",
      "Product URL: https://gportal.jaxa.jp/download/standard/GCOM-C/GCOM-C.SGLI/L2.OCEAN.SST_/3/2023/01/01/GC1SG1_202301010122E04710_L2SG_SSTDK_3001.h5\n",
      "Observation Start: 2023-01-01 01:21:56.940000+00:00\n",
      "Observation End 2023-01-01 01:26:44.510000+00:00\n",
      "Orbit Direction: Descending\n",
      "Resolution: 1km\n",
      "Cloud Cover (%): 68\n"
     ]
    }
   ],
   "source": [
    "print(\"Granule ID:\", product.id)\n",
    "print(\"Product URL:\", product.data_url)\n",
    "print(\"Observation Start:\", product.get_as_datetime(\"beginPosition\"))\n",
    "print(\"Observation End\", product.get_as_datetime(\"endPosition\"))\n",
    "print(\"Orbit Direction:\", product[\"orbitDirection\"])\n",
    "print(\"Resolution:\", product[\"Resolution\"])\n",
    "print(\"Cloud Cover (%):\", product[\"cloudCoverPercentage\"])"
   ]
  },
  {
   "attachments": {},
   "cell_type": "markdown",
   "metadata": {},
   "source": [
    "Let's see the browse image."
   ]
  },
  {
   "cell_type": "code",
   "execution_count": 12,
   "metadata": {},
   "outputs": [
    {
     "data": {
      "text/html": [
       "<img src=\"https://gportal.jaxa.jp/gpr/img/br/GC1SG1_202301010122E04710_L2SG_SSTDK_3001/GC1SG1_202301010122E04710_L2SG_SSTDK_3001.jpg\"/>"
      ],
      "text/plain": [
       "<IPython.core.display.Image object>"
      ]
     },
     "execution_count": 12,
     "metadata": {},
     "output_type": "execute_result"
    }
   ],
   "source": [
    "from IPython.display import Image\n",
    "\n",
    "Image(url=product.quicklook_url)"
   ]
  },
  {
   "attachments": {},
   "cell_type": "markdown",
   "metadata": {},
   "source": [
    "## Download products via SFTP"
   ]
  },
  {
   "attachments": {},
   "cell_type": "markdown",
   "metadata": {},
   "source": [
    "G-Portal provides an SFTP server for product files distribution.\n",
    "\n",
    "For more details, see Chapter 3 of [G-Portal User's Manual](https://gportal.jaxa.jp/gpr/assets/mng_upload/COMMON/upload/GPortalUserManual_en.pdf)."
   ]
  },
  {
   "attachments": {},
   "cell_type": "markdown",
   "metadata": {},
   "source": [
    "### Download search results"
   ]
  },
  {
   "attachments": {},
   "cell_type": "markdown",
   "metadata": {},
   "source": [
    "username and password must be set to connect the G-Portal SFTP server."
   ]
  },
  {
   "cell_type": "code",
   "execution_count": 13,
   "metadata": {},
   "outputs": [],
   "source": [
    "import getpass\n",
    "\n",
    "gportal.username = \"sankichi92\"  # Replace with your username\n",
    "gportal.password = getpass.getpass()"
   ]
  },
  {
   "attachments": {},
   "cell_type": "markdown",
   "metadata": {},
   "source": [
    "Give `Product` objects and a download directory to `gportal.download`."
   ]
  },
  {
   "cell_type": "code",
   "execution_count": 14,
   "metadata": {},
   "outputs": [
    {
     "data": {
      "text/plain": [
       "[<gportal.Product id=GC1SG1_202301010122E04710_L2SG_SSTDK_3001>,\n",
       " <gportal.Product id=GC1SG1_202301010126J04711_L2SG_SSTDK_3001>,\n",
       " <gportal.Product id=GC1SG1_202301011239J28503_L2SG_SSTNK_3001>,\n",
       " <gportal.Product id=GC1SG1_202301011235E28502_L2SG_SSTNK_3001>]"
      ]
     },
     "execution_count": 14,
     "metadata": {},
     "output_type": "execute_result"
    }
   ],
   "source": [
    "targets = [p for p in products if p[\"Resolution\"] == \"1km\"]\n",
    "gportal.download(targets, local_dir=\"./downloads\")\n",
    "targets"
   ]
  },
  {
   "attachments": {},
   "cell_type": "markdown",
   "metadata": {},
   "source": [
    "### Explore the SFTP server"
   ]
  },
  {
   "attachments": {},
   "cell_type": "markdown",
   "metadata": {},
   "source": [
    "`SFTP.connect` starts an SFTP session and returns `SFTP` object."
   ]
  },
  {
   "cell_type": "code",
   "execution_count": 15,
   "metadata": {},
   "outputs": [
    {
     "data": {
      "text/plain": [
       "<gportal.sftp.SFTP at 0x108ef0350>"
      ]
     },
     "execution_count": 15,
     "metadata": {},
     "output_type": "execute_result"
    }
   ],
   "source": [
    "sftp = gportal.SFTP.connect()\n",
    "sftp"
   ]
  },
  {
   "attachments": {},
   "cell_type": "markdown",
   "metadata": {},
   "source": [
    "`SFTP.listdir` lists directory contents like `ls` command."
   ]
  },
  {
   "cell_type": "code",
   "execution_count": 16,
   "metadata": {},
   "outputs": [
    {
     "data": {
      "text/plain": [
       "['nrt', 'process', 'order', 'standard']"
      ]
     },
     "execution_count": 16,
     "metadata": {},
     "output_type": "execute_result"
    }
   ],
   "source": [
    "sftp.listdir()"
   ]
  },
  {
   "attachments": {},
   "cell_type": "markdown",
   "metadata": {},
   "source": [
    "You can filter the results by giving a regular expression as `filter_pattern`."
   ]
  },
  {
   "cell_type": "code",
   "execution_count": 17,
   "metadata": {},
   "outputs": [
    {
     "data": {
      "text/plain": [
       "['L2.OCEAN.SST_', 'L3.OCEAN.SST_']"
      ]
     },
     "execution_count": 17,
     "metadata": {},
     "output_type": "execute_result"
    }
   ],
   "source": [
    "sftp.listdir(\"standard/GCOM-C/GCOM-C.SGLI\", filter_pattern=r\"SST\")"
   ]
  },
  {
   "attachments": {},
   "cell_type": "markdown",
   "metadata": {},
   "source": [
    "The `download` method also accepts file paths on the SFTP server.\n",
    "They must be full paths from the root."
   ]
  },
  {
   "cell_type": "code",
   "execution_count": 18,
   "metadata": {},
   "outputs": [
    {
     "data": {
      "text/plain": [
       "['standard/GCOM-C/GCOM-C.SGLI/L3.OCEAN.SST_/3/2023/01/GC1SG1_20230101A08D_D0000_3MSG_SST_F_3000.h5',\n",
       " 'standard/GCOM-C/GCOM-C.SGLI/L3.OCEAN.SST_/3/2023/01/GC1SG1_20230109A08D_D0000_3MSG_SST_F_3000.h5',\n",
       " 'standard/GCOM-C/GCOM-C.SGLI/L3.OCEAN.SST_/3/2023/01/GC1SG1_20230117A08D_D0000_3MSG_SST_F_3000.h5',\n",
       " 'standard/GCOM-C/GCOM-C.SGLI/L3.OCEAN.SST_/3/2023/01/GC1SG1_20230125A08D_D0000_3MSG_SST_F_3000.h5']"
      ]
     },
     "execution_count": 18,
     "metadata": {},
     "output_type": "execute_result"
    }
   ],
   "source": [
    "targets = sftp.listdir(\n",
    "    \"standard/GCOM-C/GCOM-C.SGLI/L3.OCEAN.SST_/3/2023/01\",\n",
    "    filter_pattern=r\"A08D_D0000\",\n",
    "    fullpath=True,\n",
    ")\n",
    "sftp.download(targets, local_dir=\"./downloads\")\n",
    "targets"
   ]
  },
  {
   "attachments": {},
   "cell_type": "markdown",
   "metadata": {},
   "source": [
    "Close the SFTP session."
   ]
  },
  {
   "cell_type": "code",
   "execution_count": 19,
   "metadata": {},
   "outputs": [],
   "source": [
    "sftp.close()"
   ]
  },
  {
   "attachments": {},
   "cell_type": "markdown",
   "metadata": {},
   "source": [
    "It's good idea to use `with` statement.\n",
    "\n",
    "```python\n",
    "with gportal.SFTP.connect() as sftp:\n",
    "    targets = sftp.listdir(\"...\", fullpath=True)\n",
    "    sftp.download(targets, local_dir=\"./downloads\")\n",
    "```"
   ]
  }
 ],
 "metadata": {
  "kernelspec": {
   "display_name": "gportal-VRisJ_BE-py3.11",
   "language": "python",
   "name": "python3"
  },
  "language_info": {
   "codemirror_mode": {
    "name": "ipython",
    "version": 3
   },
   "file_extension": ".py",
   "mimetype": "text/x-python",
   "name": "python",
   "nbconvert_exporter": "python",
   "pygments_lexer": "ipython3",
   "version": "3.11.2"
  },
  "orig_nbformat": 4
 },
 "nbformat": 4,
 "nbformat_minor": 2
}
