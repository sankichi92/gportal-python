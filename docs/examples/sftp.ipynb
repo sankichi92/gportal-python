{
 "cells": [
  {
   "cell_type": "code",
   "execution_count": 1,
   "metadata": {},
   "outputs": [],
   "source": [
    "import gportal"
   ]
  },
  {
   "cell_type": "code",
   "execution_count": 2,
   "metadata": {},
   "outputs": [],
   "source": [
    "import getpass\n",
    "\n",
    "password = getpass.getpass()\n",
    "sftp = gportal.sftp(username=\"sankichi92\", password=password)"
   ]
  },
  {
   "cell_type": "code",
   "execution_count": 3,
   "metadata": {},
   "outputs": [],
   "source": [
    "target_dir = \"/standard/GCOM-C/GCOM-C.SGLI/L2.LAND.LST_/3/2023/03/24\"\n",
    "lst_files = sftp.ls(target_dir)"
   ]
  },
  {
   "cell_type": "code",
   "execution_count": 4,
   "metadata": {},
   "outputs": [
    {
     "data": {
      "text/plain": [
       "['/standard/GCOM-C/GCOM-C.SGLI/L2.LAND.LST_/3/2023/03/24/GC1SG1_20230324D01D_T0831_L2SG_LST_Q_3000.h5',\n",
       " '/standard/GCOM-C/GCOM-C.SGLI/L2.LAND.LST_/3/2023/03/24/GC1SG1_20230324D01D_T0826_L2SG_LST_Q_3000.h5',\n",
       " '/standard/GCOM-C/GCOM-C.SGLI/L2.LAND.LST_/3/2023/03/24/GC1SG1_20230324D01D_T0829_L2SG_LST_Q_3000.h5']"
      ]
     },
     "execution_count": 4,
     "metadata": {},
     "output_type": "execute_result"
    }
   ],
   "source": [
    "import os.path\n",
    "\n",
    "paths = [os.path.join(target_dir, f) for f in lst_files[:3]]\n",
    "paths"
   ]
  },
  {
   "cell_type": "code",
   "execution_count": 5,
   "metadata": {},
   "outputs": [],
   "source": [
    "sftp.download(remote_paths=paths, local_dir=os.path.expanduser(\"~/Downloads\"))"
   ]
  },
  {
   "cell_type": "code",
   "execution_count": 6,
   "metadata": {},
   "outputs": [],
   "source": [
    "sftp.close()"
   ]
  }
 ],
 "metadata": {
  "kernelspec": {
   "display_name": "gportal-VRisJ_BE-py3.11",
   "language": "python",
   "name": "python3"
  },
  "language_info": {
   "codemirror_mode": {
    "name": "ipython",
    "version": 3
   },
   "file_extension": ".py",
   "mimetype": "text/x-python",
   "name": "python",
   "nbconvert_exporter": "python",
   "pygments_lexer": "ipython3",
   "version": "3.11.2"
  },
  "orig_nbformat": 4
 },
 "nbformat": 4,
 "nbformat_minor": 2
}
