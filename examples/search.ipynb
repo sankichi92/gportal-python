{
 "cells": [
  {
   "cell_type": "code",
   "execution_count": 1,
   "metadata": {},
   "outputs": [],
   "source": [
    "import gportal"
   ]
  },
  {
   "cell_type": "code",
   "execution_count": 2,
   "metadata": {},
   "outputs": [],
   "source": [
    "res = gportal.search(dataset_ids=[11001000], start_time=\"2023-03-01T00:00:00\", end_time=\"2023-03-01T23:59:59\", count=1)"
   ]
  },
  {
   "cell_type": "code",
   "execution_count": 3,
   "metadata": {},
   "outputs": [],
   "source": [
    "pages = res.pages()"
   ]
  },
  {
   "cell_type": "code",
   "execution_count": 4,
   "metadata": {},
   "outputs": [
    {
     "data": {
      "text/plain": [
       "{'type': 'FeatureCollection',\n",
       " 'features': [{'type': 'Feature',\n",
       "   'geometry': {'type': 'Polygon',\n",
       "    'coordinates': [[[-53.168, -73.321],\n",
       "      [-64.08, -76.177],\n",
       "      [-72.139, -79.861],\n",
       "      [-71.059, -83.894],\n",
       "      [-32.26, -86.517],\n",
       "      [10.398, -84.174],\n",
       "      [8.33, -85.504],\n",
       "      [4.689, -86.824],\n",
       "      [-3.778, -88.117],\n",
       "      [-40.5, -89.228],\n",
       "      [-128.91, -88.886],\n",
       "      [-148.396, -87.661],\n",
       "      [-162.277, -78.802],\n",
       "      [-164.963, -69.875],\n",
       "      [-166.769, -60.931],\n",
       "      [-169.098, -47.495],\n",
       "      [-171.342, -34.019],\n",
       "      [-173.667, -20.509],\n",
       "      [-179.037, 6.406],\n",
       "      [177.546, 19.823],\n",
       "      [173.172, 33.089],\n",
       "      [167, 46.068],\n",
       "      [160.965, 54.422],\n",
       "      [151.908, 62.306],\n",
       "      [136.991, 69.188],\n",
       "      [133.964, 70.07],\n",
       "      [130.676, 70.897],\n",
       "      [127.115, 71.661],\n",
       "      [123.273, 72.353],\n",
       "      [119.145, 72.966],\n",
       "      [114.743, 73.49],\n",
       "      [104.045, 76.254],\n",
       "      [96.24, 79.84],\n",
       "      [97.469, 83.77],\n",
       "      [133.834, 86.359],\n",
       "      [176.048, 84.209],\n",
       "      [177.801, 82.874],\n",
       "      [179.058, 81.535],\n",
       "      [-179.978, 80.193],\n",
       "      [-179.202, 78.85],\n",
       "      [-178.552, 77.506],\n",
       "      [-177.993, 76.161],\n",
       "      [-175.38, 67.179],\n",
       "      [-173.519, 58.182],\n",
       "      [-171.884, 49.169],\n",
       "      [-169.549, 35.626],\n",
       "      [-167.174, 22.07],\n",
       "      [-164.627, 8.527],\n",
       "      [-158.405, -18.273],\n",
       "      [-154.136, -31.498],\n",
       "      [-148.217, -44.439],\n",
       "      [-138.825, -56.822],\n",
       "      [-128.396, -64.402],\n",
       "      [-110.959, -70.717],\n",
       "      [-82.628, -74.19],\n",
       "      [-77.615, -74.329],\n",
       "      [-72.545, -74.353],\n",
       "      [-67.509, -74.261],\n",
       "      [-62.557, -74.055],\n",
       "      [-57.76, -73.74],\n",
       "      [-53.168, -73.321]]]},\n",
       "   'properties': {'identifier': 'GW1AM2_202303010028_178A_L1SGADNR_2220220',\n",
       "    'acquisitionType': 'NOMINAL',\n",
       "    'processingDate': '2023-03-01T01:46:04.000Z',\n",
       "    'processingLevel': 'AMSR2-L1A',\n",
       "    'processorVersion': '220,220',\n",
       "    'status': 'ARCHIVED',\n",
       "    'beginPosition': '2023-03-01T00:28:08.764Z',\n",
       "    'endPosition': '2023-03-01T01:17:36.980Z',\n",
       "    'platformShortName': 'GCOM-W1',\n",
       "    'instrumentShortName': 'AMSR2',\n",
       "    'wrsLongitudeGrid': '178',\n",
       "    'lastOrbitNumber': '57372',\n",
       "    'ascendingNodeDate': '2023-03-01T00:55:03.615Z',\n",
       "    'ascendingNodeLongitude': '-171.54',\n",
       "    'multiExtentOf': '-53.168 -73.321 -64.080 -76.177 -72.139 -79.861 -71.059 -83.894 -32.260 -86.517 10.398 -84.174 8.330 -85.504 4.689 -86.824 -3.778 -88.117 -40.500 -89.228 -128.910 -88.886 -148.396 -87.661 -162.277 -78.802 -164.963 -69.875 -166.769 -60.931 -169.098 -47.495 -171.342 -34.019 -173.667 -20.509 -179.037 6.406 177.546 19.823 173.172 33.089 167.000 46.068 160.965 54.422 151.908 62.306 136.991 69.188 133.964 70.070 130.676 70.897 127.115 71.661 123.273 72.353 119.145 72.966 114.743 73.490 104.045 76.254 96.240 79.840 97.469 83.770 133.834 86.359 176.048 84.209 177.801 82.874 179.058 81.535 -179.978 80.193 -179.202 78.850 -178.552 77.506 -177.993 76.161 -175.380 67.179 -173.519 58.182 -171.884 49.169 -169.549 35.626 -167.174 22.070 -164.627 8.527 -158.405 -18.273 -154.136 -31.498 -148.217 -44.439 -138.825 -56.822 -128.396 -64.402 -110.959 -70.717 -82.628 -74.190 -77.615 -74.329 -72.545 -74.353 -67.509 -74.261 -62.557 -74.055 -57.760 -73.740 -53.168 -73.321',\n",
       "    'product': {'fileName': 'https://gportal.jaxa.jp/download/standard/GCOM-W/GCOM-W.AMSR2/L1A/2/2023/03/GW1AM2_202303010028_178A_L1SGADNR_2220220.h5',\n",
       "     'size': '27682407',\n",
       "     'version': '2'},\n",
       "    'browse': [{'type': 'QUICKLOOK',\n",
       "      'fileName': 'https://gportal.jaxa.jp/gpr/img/br/GW1AM2_202303010028_178A_L1SGADNR_2220220/GW1AM2_202303010028_178A_L1SGADNR_2220220.jpg'},\n",
       "     {'type': 'THUMBNAIL',\n",
       "      'fileName': 'https://gportal.jaxa.jp/gpr/img/thm/GW1AM2_202303010028_178A_L1SGADNR_2220220/GW1AM2_202303010028_178A_L1SGADNR_2220220.png'}],\n",
       "    'gpp': {'datasetId': '11001000',\n",
       "     'totalQualityCode': '',\n",
       "     'physicalQuantity': 'Observation Count',\n",
       "     'parameterVersion': '220',\n",
       "     'algorithmVersion': '220',\n",
       "     'numberMissingData': '0',\n",
       "     'startPathNumber': '178',\n",
       "     'endPathNumber': '178',\n",
       "     'mapProjection': '',\n",
       "     'orbitDirection': 'Ascending',\n",
       "     'pseq': 'EQ',\n",
       "     'topicCategory': '-',\n",
       "     'organizationName': 'JAXA',\n",
       "     'hasProduct': 'true'}}}],\n",
       " 'properties': {'numberOfRecordsMatched': 29, 'numberOfRecordsReturned': 1}}"
      ]
     },
     "execution_count": 4,
     "metadata": {},
     "output_type": "execute_result"
    }
   ],
   "source": [
    "next(pages)"
   ]
  },
  {
   "cell_type": "code",
   "execution_count": null,
   "metadata": {},
   "outputs": [],
   "source": []
  }
 ],
 "metadata": {
  "kernelspec": {
   "display_name": "gportal-VRisJ_BE-py3.11",
   "language": "python",
   "name": "python3"
  },
  "language_info": {
   "codemirror_mode": {
    "name": "ipython",
    "version": 3
   },
   "file_extension": ".py",
   "mimetype": "text/x-python",
   "name": "python",
   "nbconvert_exporter": "python",
   "pygments_lexer": "ipython3",
   "version": "3.11.2"
  },
  "orig_nbformat": 4
 },
 "nbformat": 4,
 "nbformat_minor": 2
}
