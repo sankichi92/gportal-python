{
 "cells": [
  {
   "cell_type": "code",
   "execution_count": 1,
   "metadata": {},
   "outputs": [],
   "source": [
    "import gportal"
   ]
  },
  {
   "cell_type": "code",
   "execution_count": 2,
   "metadata": {},
   "outputs": [],
   "source": [
    "datasets = gportal.datasets()"
   ]
  },
  {
   "cell_type": "code",
   "execution_count": 3,
   "metadata": {},
   "outputs": [],
   "source": [
    "res = gportal.search(\n",
    "    dataset_ids=datasets[\"GCOM-C/SGLI\"][\"LEVEL3\"][\"Oceanic sphere\"][\"L3-NWLR\"],\n",
    "    start_time=\"2023-03-01T00:00:00\",\n",
    "    end_time=\"2023-03-01T23:59:59\",\n",
    "    count=1,\n",
    ")"
   ]
  },
  {
   "cell_type": "code",
   "execution_count": 4,
   "metadata": {},
   "outputs": [],
   "source": [
    "pages = res.pages()"
   ]
  },
  {
   "cell_type": "code",
   "execution_count": 5,
   "metadata": {},
   "outputs": [
    {
     "data": {
      "text/plain": [
       "{'type': 'FeatureCollection',\n",
       " 'features': [{'type': 'Feature',\n",
       "   'geometry': {'type': 'Polygon',\n",
       "    'coordinates': [[[-180, 90],\n",
       "      [180, 90],\n",
       "      [180, -90],\n",
       "      [-180, -90],\n",
       "      [-180, 90]]]},\n",
       "   'properties': {'identifier': 'GC1SG1_20230301A01D_X0000_3BSG_L380F_3000',\n",
       "    'acquisitionType': 'NOMINAL',\n",
       "    'imageQualityDegradation': '',\n",
       "    'imageQualityDegradationQuotationMode': '',\n",
       "    'processingDate': '2023-03-03T01:52:04.00Z',\n",
       "    'processingLevel': 'L3',\n",
       "    'ProductType': 'S',\n",
       "    'status': 'ARCHIVED',\n",
       "    'beginPosition': '2023-03-01T00:06:15.03Z',\n",
       "    'endPosition': '2023-03-01T23:40:55.39Z',\n",
       "    'platformShortName': 'GCOM-C',\n",
       "    'instrumentShortName': 'SGLI',\n",
       "    'sensorType': 'OPTICAL',\n",
       "    'operationalMode': 'NOMINAL',\n",
       "    'resolution': '',\n",
       "    'orbitNumber': '',\n",
       "    'lastOrbitNumber': '',\n",
       "    'DayNight': '',\n",
       "    'illuminationAzimuthAngle': '',\n",
       "    'illuminationElevationAngle': '',\n",
       "    'multiExtentOf': '-180.00000000000000 90.00000000000000 180.00000000000000 90.00000000000000 180.00000000000000 -90.00000000000000 -180.00000000000000 -90.00000000000000 -180.00000000000000 90.00000000000000',\n",
       "    'centerOf': '',\n",
       "    'product': {'fileName': 'https://gportal.jaxa.jp/download/standard/GCOM-C/GCOM-C.SGLI/L3.OCEAN.L380/3/2023/03/GC1SG1_20230301A01D_X0000_3BSG_L380F_3000.h5',\n",
       "     'size': '1048576',\n",
       "     'DataFormatType': 'HDF5',\n",
       "     'version': '3'},\n",
       "    'browse': [],\n",
       "    'gpp': {'datasetId': '10003000',\n",
       "     'totalQualityCode': 'Fair',\n",
       "     'cloudCoverPercentage': '',\n",
       "     'operatorComment': '',\n",
       "     'compressFlag': '1',\n",
       "     'physicalQuantity': 'Level-3 spatial binned parameters',\n",
       "     'Resolution': '1/24deg',\n",
       "     'browseImageSize': '',\n",
       "     'parameterVersion': '000',\n",
       "     'algorithmVersion': '3',\n",
       "     'numberPixels': '',\n",
       "     'numberLines': '',\n",
       "     'numberBands': '',\n",
       "     'numberMissingData': '',\n",
       "     'sceneNumber': '',\n",
       "     'startPathNumber': '',\n",
       "     'endPathNumber': '',\n",
       "     'startArgumentLat': '',\n",
       "     'endArgumentLat': '',\n",
       "     'mapProjection': 'EQA',\n",
       "     'mapDirection': 'True North',\n",
       "     'orbitDirection': 'Ascending',\n",
       "     'tileNo': '0000',\n",
       "     'channels': '',\n",
       "     'bandWidth': '',\n",
       "     'downlinkSegmentNumber': '',\n",
       "     'sensorOffPeriod': '',\n",
       "     'sceneCenterTime': '',\n",
       "     'startSubsatellitePosition': '',\n",
       "     'endSubsatellitePosition': '',\n",
       "     'ProcessTimeUnit': '01D',\n",
       "     'tileHNo': '00',\n",
       "     'tileVNo': '00',\n",
       "     'topicCategory': '-',\n",
       "     'organizationName': 'JAXA',\n",
       "     'pseq': 'EQ',\n",
       "     'hasProduct': 'true'}}}],\n",
       " 'properties': {'numberOfRecordsMatched': 28, 'numberOfRecordsReturned': 1}}"
      ]
     },
     "execution_count": 5,
     "metadata": {},
     "output_type": "execute_result"
    }
   ],
   "source": [
    "next(pages)"
   ]
  }
 ],
 "metadata": {
  "kernelspec": {
   "display_name": "gportal-VRisJ_BE-py3.11",
   "language": "python",
   "name": "python3"
  },
  "language_info": {
   "codemirror_mode": {
    "name": "ipython",
    "version": 3
   },
   "file_extension": ".py",
   "mimetype": "text/x-python",
   "name": "python",
   "nbconvert_exporter": "python",
   "pygments_lexer": "ipython3",
   "version": "3.11.2"
  },
  "orig_nbformat": 4
 },
 "nbformat": 4,
 "nbformat_minor": 2
}
